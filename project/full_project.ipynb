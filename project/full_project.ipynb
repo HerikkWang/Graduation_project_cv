{
 "cells": [
  {
   "cell_type": "code",
   "execution_count": 1,
   "metadata": {},
   "outputs": [],
   "source": [
    "import cv2\n",
    "import matplotlib.pyplot as plt\n",
    "import numpy as np\n",
    "import pandas as pd\n",
    "import seaborn as sns\n",
    "from pyflann import *\n",
    "import datetime"
   ]
  },
  {
   "cell_type": "code",
   "execution_count": 2,
   "metadata": {},
   "outputs": [],
   "source": [
    "# 将工作环境调整至/data/planogram下\n",
    "path = os.path.abspath(\"..\")\n",
    "path = path.replace('\\\\', '/')\n",
    "os.chdir(path + \"/data\")"
   ]
  },
  {
   "cell_type": "markdown",
   "metadata": {},
   "source": [
    "## 读取待检测的目标图片与模板"
   ]
  },
  {
   "cell_type": "code",
   "execution_count": 6,
   "metadata": {},
   "outputs": [],
   "source": [
    "# 目标图片\n",
    "target = cv2.imread(\"planogram/IMG_0114.jpg\", 1)\n",
    "template_list = ['template/template.png']\n",
    "template_name = ['洁云']\n",
    "template_dict = {}\n",
    "for template, category in zip(template_list, template_name):\n",
    "    template_dict[category] = cv2.imread(template, 1)"
   ]
  },
  {
   "cell_type": "markdown",
   "metadata": {},
   "source": [
    "## image_show函数：用matplotlib库展示图片\n",
    "- 可自动识别彩色图像和灰度化图像"
   ]
  },
  {
   "cell_type": "code",
   "execution_count": 12,
   "metadata": {},
   "outputs": [],
   "source": [
    "def image_show(img: np.ndarray):\n",
    "    # 彩色RGB图像\n",
    "    if img.ndim == 3:\n",
    "        plt.figure(figsize=(10, 12))\n",
    "        # opencv以BGR模式存储图片，如果要使用plt.imshow()函数显示图像\n",
    "        # 需要将图片转换为RGB模式\n",
    "        image_show = cv2.cvtColor(img, cv2.COLOR_BGR2RGB)\n",
    "        plt.imshow(image_show, cmap='gray', interpolation='bicubic')\n",
    "        plt.xticks([]), plt.yticks([])\n",
    "        plt.show()\n",
    "    # 灰度图像    \n",
    "    elif img.ndim == 2:\n",
    "        plt.figure(figsize=(10, 12))\n",
    "        plt.imshow(img, cmap='gray', interpolation='bicubic')\n",
    "        plt.xticks([]), plt.yticks([])\n",
    "        plt.show()\n",
    "    else:\n",
    "        return None"
   ]
  },
  {
   "cell_type": "markdown",
   "metadata": {},
   "source": [
    "<b><font size=5 font color=#DC143C>旋转图像模块待完成</font></b>"
   ]
  },
  {
   "cell_type": "code",
   "execution_count": null,
   "metadata": {},
   "outputs": [],
   "source": [
    "def image_horizontal_segmentation(image: np.ndarray) -> list:\n",
    "    # 首先对图像进行灰度化\n",
    "    # 灰度化公式(各通道权重大小) Y = 0.299R + 0.587G + 0.114B\n",
    "    gray_image = cv2.cvtColor(image, cv2.COLOR_BGR2GRAY)\n",
    "    # 使用高斯滤波器对图像进行平滑以便于使用canny算子检测图像边缘\n",
    "    # 滤波器尺寸为5*5, 高斯函数标准差为2\n",
    "    blur_image = cv2.GaussianBlur(gray_image, (5, 5), 2)\n",
    "    # 使用canny算法检测图像边缘\n",
    "    # 低阈值设置50, 高阈值设置200\n",
    "    canny_image = cv2.Canny(blur_image, 50, 200)\n",
    "    # 使用霍夫变换检测应用了canny算法的边缘图像中的直线\n",
    "    # 第一个参数代表用于搜索距离参数空间的精度, 第二个参数代表用于搜索角度参数空间的精度\n",
    "    # 最后一个参数代表一条直线上的最小像素点数量\n",
    "    lines = cv2.HoughLines(canny_image, 1, np.pi/180, 350)\n",
    "    lines_array = []\n",
    "    for line in lines:\n",
    "        lines_array.append(line[0])\n",
    "    \n",
    "    # 将直线的角度参数和距离参数保存到dataframe中\n",
    "    lines_data = pd.DataFrame(np.array(lines_array), columns=['rho', 'theta'])\n",
    "    # 将直线的角度从弧度转换为角度\n",
    "    lines_data['angle'] = lines_data['theta'].map(lambda x: round(np.rad2deg(x)))\n",
    "    # 取直线角度的众数作为图片的角度(用于检测货架是否水平)\n",
    "    image_angle = lines_data['angle'].value_counts().index[0]\n",
    "    if np.abs(image_angle - 90) <= 1:\n",
    "        print(\"图像货架基本水平.\")\n",
    "    else:\n",
    "        print(\"图像需要进行旋转.\")\n",
    "    \n",
    "    # 计算canny边缘图像每行上像素点的数量和, 利用货架上像素点比较密集和变化剧烈的特征\n",
    "    # 利用灰度水平直方图的一阶差分对图像进行水平分割\n",
    "    gray_sum = []\n",
    "    for line in canny_image:\n",
    "        gray_sum.append(line.sum())\n",
    "    \n",
    "    gray_sum = np.array(gray_sum)\n",
    "    gray_df = pd.DataFrame(gray_sum, columns=['gray_sum'])\n",
    "    # 归一化\n",
    "    gray_df_2 = gray_df/gray_sum.max()\n",
    "    gray_df_3 = gray_df_2.diff().apply(np.abs)\n",
    "    for i in gray_df_3[gray_df_3['gray_sum'] >= (gray_df_3['gray_sum'].max() * 0.6)].index:\n",
    "        \n",
    "    \n",
    "    "
   ]
  }
 ],
 "metadata": {
  "kernelspec": {
   "display_name": "Python [default]",
   "language": "python",
   "name": "python3"
  },
  "language_info": {
   "codemirror_mode": {
    "name": "ipython",
    "version": 3
   },
   "file_extension": ".py",
   "mimetype": "text/x-python",
   "name": "python",
   "nbconvert_exporter": "python",
   "pygments_lexer": "ipython3",
   "version": "3.6.8"
  }
 },
 "nbformat": 4,
 "nbformat_minor": 2
}
